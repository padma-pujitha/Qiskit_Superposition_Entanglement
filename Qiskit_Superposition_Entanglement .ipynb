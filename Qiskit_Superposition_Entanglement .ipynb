{
  "cells": [
    {
      "cell_type": "code",
      "metadata": {
        "id": "NOQIWRacv-y3"
      },
      "source": [
        "!pip install qiskit --quiet\n",
        "!pip install qiskit-aer --quiet\n",
        "\n"
      ],
      "execution_count": null,
      "outputs": [],
      "id": "NOQIWRacv-y3"
    },
    {
      "cell_type": "code",
      "metadata": {
        "id": "4vIIe5A0v-y4"
      },
      "source": [
        "from qiskit import QuantumCircuit\n",
        "from qiskit_aer import AerSimulator\n",
        "from qiskit.visualization import plot_histogram, plot_bloch_multivector\n",
        "from qiskit.quantum_info import Statevector\n",
        "import matplotlib.pyplot as plt\n"
      ],
      "execution_count": null,
      "outputs": [],
      "id": "4vIIe5A0v-y4"
    },
    {
      "cell_type": "markdown",
      "metadata": {
        "id": "B_QEU5O6v-y4"
      },
      "source": [
        "## 1. Superposition Example"
      ],
      "id": "B_QEU5O6v-y4"
    },
    {
      "cell_type": "code",
      "metadata": {
        "id": "mPhcfNBxv-y5",
        "colab": {
          "base_uri": "https://localhost:8080/"
        },
        "outputId": "e5213802-27d9-47d6-95b8-1fe19c11b53c"
      },
      "source": [
        "#Step 1: Create a single-qubit circuit\n",
        "qc_super = QuantumCircuit(1, 1)\n",
        "\n",
        "# Step 2: Apply Hadamard gate to create superposition\n",
        "qc_super.h(0)\n",
        "\n",
        "# Step 3: Measure the qubit\n",
        "qc_super.measure(0, 0)\n",
        "\n",
        "# Step 4: Simulate\n",
        "simulator = AerSimulator()\n",
        "job = simulator.run(qc_super, shots=1024)\n",
        "result = job.result()\n",
        "counts = result.get_counts()\n",
        "\n",
        "# Step 5: Display results\n",
        "print(\"Superposition Measurement Counts:\", counts)\n",
        "plot_histogram(counts)\n",
        "plt.show()"
      ],
      "execution_count": null,
      "outputs": [
        {
          "output_type": "stream",
          "name": "stdout",
          "text": [
            "Superposition Measurement Counts: {'0': 520, '1': 504}\n"
          ]
        }
      ],
      "id": "mPhcfNBxv-y5"
    },
    {
      "cell_type": "markdown",
      "metadata": {
        "id": "PWL3wDZWv-y6"
      },
      "source": [
        "## 2. Entanglement Example"
      ],
      "id": "PWL3wDZWv-y6"
    },
    {
      "cell_type": "code",
      "metadata": {
        "id": "dj2F4Yswv-y6",
        "colab": {
          "base_uri": "https://localhost:8080/"
        },
        "outputId": "73fe39f8-0d08-489f-b550-22b844f97ea4"
      },
      "source": [
        "# Step 1: Create a 2-qubit circuit\n",
        "qc_ent = QuantumCircuit(2, 2)\n",
        "\n",
        "# Step 2: Apply H on qubit 0\n",
        "qc_ent.h(0)\n",
        "\n",
        "# Step 3: Apply CNOT (control=0, target=1)\n",
        "qc_ent.cx(0, 1)\n",
        "\n",
        "# Step 4: Measure both qubits\n",
        "qc_ent.measure([0, 1], [0, 1])\n",
        "\n",
        "# Step 5: Simulate\n",
        "simulator = AerSimulator()\n",
        "job = simulator.run(qc_ent, shots=1024)\n",
        "result = job.result()\n",
        "counts = result.get_counts()\n",
        "\n",
        "# Step 6: Display results\n",
        "print(\"Entanglement Measurement Counts:\", counts)\n",
        "plot_histogram(counts)\n",
        "plt.show()"
      ],
      "execution_count": null,
      "outputs": [
        {
          "output_type": "stream",
          "name": "stdout",
          "text": [
            "Entanglement Measurement Counts: {'00': 558, '11': 466}\n"
          ]
        }
      ],
      "id": "dj2F4Yswv-y6"
    }
  ],
  "metadata": {
    "kernelspec": {
      "display_name": "Python 3",
      "language": "python",
      "name": "python3"
    },
    "language_info": {
      "name": "python",
      "version": "3.10"
    },
    "colab": {
      "provenance": []
    }
  },
  "nbformat": 4,
  "nbformat_minor": 5
}